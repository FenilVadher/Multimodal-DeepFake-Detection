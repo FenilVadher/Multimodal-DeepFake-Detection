{
 "cells": [
  {
   "cell_type": "code",
   "execution_count": 1,
   "id": "eb22f1d6",
   "metadata": {},
   "outputs": [],
   "source": [
    "import os\n",
    "import torch\n",
    "import torchaudio\n",
    "import torch.nn.functional as F\n",
    "from torch import nn\n",
    "from torch.utils.data import Dataset, DataLoader\n",
    "from sklearn.metrics import classification_report, accuracy_score"
   ]
  },
  {
   "cell_type": "code",
   "execution_count": 2,
   "id": "f4085e27",
   "metadata": {},
   "outputs": [],
   "source": [
    "# Configuration\n",
    "SAMPLE_RATE = 16000\n",
    "FIXED_LENGTH = SAMPLE_RATE * 2  # 2 seconds\n",
    "BATCH_SIZE = 8\n",
    "\n",
    "# Check device\n",
    "device = torch.device(\"cuda\" if torch.cuda.is_available() else \"cpu\")"
   ]
  },
  {
   "cell_type": "code",
   "execution_count": 3,
   "id": "ba8b8981",
   "metadata": {},
   "outputs": [],
   "source": [
    "# Dataset class (same as training)\n",
    "class AudioDeepfakeDataset(Dataset):\n",
    "    def __init__(self, files, labels, transform=None):\n",
    "        self.files = files\n",
    "        self.labels = labels\n",
    "        self.transform = transform\n",
    "\n",
    "    def __len__(self):\n",
    "        return len(self.files)\n",
    "\n",
    "    def __getitem__(self, idx):\n",
    "        path = self.files[idx]\n",
    "        label = self.labels[idx]\n",
    "\n",
    "        waveform, sr = torchaudio.load(path)\n",
    "        if sr != SAMPLE_RATE:\n",
    "            resampler = torchaudio.transforms.Resample(sr, SAMPLE_RATE)\n",
    "            waveform = resampler(waveform)\n",
    "\n",
    "        if self.transform:\n",
    "            waveform = self.transform(waveform)\n",
    "\n",
    "        return waveform, label"
   ]
  },
  {
   "cell_type": "code",
   "execution_count": 4,
   "id": "e2091c94",
   "metadata": {},
   "outputs": [],
   "source": [
    "# Pad/truncate waveform\n",
    "def pad_waveform(waveform, length=FIXED_LENGTH):\n",
    "    if waveform.shape[1] > length:\n",
    "        return waveform[:, :length]\n",
    "    else:\n",
    "        return F.pad(waveform, (0, length - waveform.shape[1]))\n",
    "\n",
    "transform = lambda x: pad_waveform(x)"
   ]
  },
  {
   "cell_type": "code",
   "execution_count": 5,
   "id": "cf7eaf72",
   "metadata": {},
   "outputs": [],
   "source": [
    "# Load dataset\n",
    "def load_dataset(data_dir=\"/Users/fenilvadher/Documents/Collage Data/SEM - 6/AI/AI Project/fake_audio\"):\n",
    "    paths, labels = [], []\n",
    "    label_map = {\"real\": 0, \"fake\": 1}\n",
    "    for label_str, label_int in label_map.items():\n",
    "        folder = os.path.join(data_dir, label_str)\n",
    "        for file in os.listdir(folder):\n",
    "            if file.endswith(\".wav\"):\n",
    "                paths.append(os.path.join(folder, file))\n",
    "                labels.append(label_int)\n",
    "    return paths, labels"
   ]
  },
  {
   "cell_type": "code",
   "execution_count": 6,
   "id": "91a0d70b",
   "metadata": {},
   "outputs": [],
   "source": [
    "# CNN Model (same as training)\n",
    "class AudioCNN(nn.Module):\n",
    "    def __init__(self, input_length):\n",
    "        super(AudioCNN, self).__init__()\n",
    "        self.conv1 = nn.Conv1d(1, 16, kernel_size=5, stride=2)\n",
    "        self.bn1 = nn.BatchNorm1d(16)\n",
    "        self.pool1 = nn.MaxPool1d(2)\n",
    "        self.conv2 = nn.Conv1d(16, 32, kernel_size=5, stride=2)\n",
    "        self.bn2 = nn.BatchNorm1d(32)\n",
    "        self.pool2 = nn.MaxPool1d(2)\n",
    "\n",
    "        with torch.no_grad():\n",
    "            dummy_input = torch.zeros(1, 1, input_length)\n",
    "            x = self.pool1(F.relu(self.bn1(self.conv1(dummy_input))))\n",
    "            x = self.pool2(F.relu(self.bn2(self.conv2(x))))\n",
    "            self.flattened_size = x.view(1, -1).shape[1]\n",
    "\n",
    "        self.fc1 = nn.Linear(self.flattened_size, 64)\n",
    "        self.fc2 = nn.Linear(64, 2)\n",
    "\n",
    "    def forward(self, x):\n",
    "        x = self.pool1(F.relu(self.bn1(self.conv1(x))))\n",
    "        x = self.pool2(F.relu(self.bn2(self.conv2(x))))\n",
    "        x = x.view(x.size(0), -1)\n",
    "        x = F.relu(self.fc1(x))\n",
    "        return self.fc2(x)"
   ]
  },
  {
   "cell_type": "code",
   "execution_count": 7,
   "id": "181eeac2",
   "metadata": {},
   "outputs": [],
   "source": [
    "# Load test data\n",
    "file_paths, file_labels = load_dataset(\"/Users/fenilvadher/Documents/Collage Data/SEM - 6/AI/AI Project/fake_audio\")\n",
    "from sklearn.model_selection import train_test_split\n",
    "_, test_paths, _, test_labels = train_test_split(file_paths, file_labels, test_size=0.2, random_state=42)\n",
    "test_dataset = AudioDeepfakeDataset(test_paths, test_labels, transform=transform)\n",
    "test_loader = DataLoader(test_dataset, batch_size=BATCH_SIZE)"
   ]
  },
  {
   "cell_type": "code",
   "execution_count": 8,
   "id": "1fe445cd",
   "metadata": {},
   "outputs": [
    {
     "name": "stdout",
     "output_type": "stream",
     "text": [
      "✅ Model loaded successfully.\n"
     ]
    }
   ],
   "source": [
    "# Load model\n",
    "model = AudioCNN(FIXED_LENGTH).to(device)\n",
    "model.load_state_dict(torch.load(\"/Users/fenilvadher/Documents/Collage Data/SEM - 6/AI/AI Project/audio_deepfake_model.pth\", map_location=device))\n",
    "model.eval()\n",
    "print(\"✅ Model loaded successfully.\")"
   ]
  },
  {
   "cell_type": "code",
   "execution_count": 9,
   "id": "17a383fa",
   "metadata": {},
   "outputs": [],
   "source": [
    "# Evaluate on test set\n",
    "all_preds = []\n",
    "all_labels = []"
   ]
  },
  {
   "cell_type": "code",
   "execution_count": null,
   "id": "862a1f73",
   "metadata": {},
   "outputs": [],
   "source": [
    "with torch.no_grad():\n",
    "    for waveforms, labels in test_loader:\n",
    "        waveforms = waveforms.to(device)\n",
    "        labels = labels.to(device)\n",
    "\n",
    "        if waveforms.dim() == 2:\n",
    "            waveforms = waveforms.unsqueeze(1)\n",
    "with torch.no_grad():\n",
    "    for waveforms, labels in test_loader:\n",
    "        waveforms = waveforms.to(device)\n",
    "        labels = labels.to(device)\n",
    "\n",
    "        if waveforms.dim() == 2:\n",
    "            waveforms = waveforms.unsqueeze(1)\n",
    "\n",
    "        outputs = model(waveforms)\n",
    "        _, predicted = torch.max(outputs, 1)\n",
    "\n",
    "        all_preds.extend(predicted.cpu().numpy())\n",
    "        all_labels.extend(labels.cpu().numpy())\n",
    "        outputs = model(waveforms)\n",
    "        _, predicted = torch.max(outputs, 1)\n",
    "\n",
    "        all_preds.extend(predicted.cpu().numpy())\n",
    "        all_labels.extend(labels.cpu().numpy())"
   ]
  },
  {
   "cell_type": "code",
   "execution_count": 11,
   "id": "03039388",
   "metadata": {},
   "outputs": [
    {
     "name": "stdout",
     "output_type": "stream",
     "text": [
      "\n",
      "✅ Test Accuracy: 55.00%\n",
      "\n",
      "📊 Classification Report:\n",
      "              precision    recall  f1-score   support\n",
      "\n",
      "        Real       0.62      0.67      0.64        12\n",
      "        Fake       0.43      0.38      0.40         8\n",
      "\n",
      "    accuracy                           0.55        20\n",
      "   macro avg       0.52      0.52      0.52        20\n",
      "weighted avg       0.54      0.55      0.54        20\n",
      "\n"
     ]
    }
   ],
   "source": [
    "# Report\n",
    "accuracy = accuracy_score(all_labels, all_preds)\n",
    "print(f\"\\n✅ Test Accuracy: {accuracy * 100:.2f}%\")\n",
    "print(\"\\n📊 Classification Report:\")\n",
    "print(classification_report(all_labels, all_preds, target_names=[\"Real\", \"Fake\"]))"
   ]
  },
  {
   "cell_type": "code",
   "execution_count": 13,
   "id": "256ec8ee",
   "metadata": {},
   "outputs": [
    {
     "name": "stdout",
     "output_type": "stream",
     "text": [
      "\n",
      "🎧 Prediction for custom file: Real\n"
     ]
    }
   ],
   "source": [
    "# Predict on a single audio file\n",
    "def predict_audio(file_path):\n",
    "    waveform, sr = torchaudio.load(file_path)\n",
    "    if sr != SAMPLE_RATE:\n",
    "        resampler = torchaudio.transforms.Resample(sr, SAMPLE_RATE)\n",
    "        waveform = resampler(waveform)\n",
    "\n",
    "    waveform = transform(waveform)\n",
    "    if waveform.dim() == 2:\n",
    "        waveform = waveform.unsqueeze(0)\n",
    "    waveform = waveform.to(device)\n",
    "\n",
    "    model.eval()\n",
    "    with torch.no_grad():\n",
    "        output = model(waveform)\n",
    "        predicted_class = torch.argmax(output, dim=1).item()\n",
    "    return \"Real\" if predicted_class == 0 else \"Fake\"\n",
    "\n",
    "# Example usage\n",
    "test_file_path = \"/Users/fenilvadher/Documents/Collage Data/SEM - 6/AI/AI Project/fake_audio/real/speaker5_9.wav\"  # Replace with your file\n",
    "print(f\"\\n🎧 Prediction for custom file: {predict_audio(test_file_path)}\")\n"
   ]
  },
  {
   "cell_type": "code",
   "execution_count": null,
   "id": "15c5921b",
   "metadata": {},
   "outputs": [],
   "source": []
  }
 ],
 "metadata": {
  "kernelspec": {
   "display_name": "Python 3",
   "language": "python",
   "name": "python3"
  },
  "language_info": {
   "codemirror_mode": {
    "name": "ipython",
    "version": 3
   },
   "file_extension": ".py",
   "mimetype": "text/x-python",
   "name": "python",
   "nbconvert_exporter": "python",
   "pygments_lexer": "ipython3",
   "version": "3.11.8"
  }
 },
 "nbformat": 4,
 "nbformat_minor": 5
}
