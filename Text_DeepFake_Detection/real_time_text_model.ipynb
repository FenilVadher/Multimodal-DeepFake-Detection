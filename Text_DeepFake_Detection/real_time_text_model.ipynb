{
 "cells": [
  {
   "cell_type": "code",
   "execution_count": 4,
   "id": "0400d61d",
   "metadata": {},
   "outputs": [
    {
     "name": "stdout",
     "output_type": "stream",
     "text": [
      "Requirement already satisfied: torch in /Library/Frameworks/Python.framework/Versions/3.11/lib/python3.11/site-packages (2.6.0)\n",
      "Requirement already satisfied: transformers in /Library/Frameworks/Python.framework/Versions/3.11/lib/python3.11/site-packages (4.51.1)\n",
      "Requirement already satisfied: safetensors in /Library/Frameworks/Python.framework/Versions/3.11/lib/python3.11/site-packages (0.5.3)\n",
      "Requirement already satisfied: numpy in /Library/Frameworks/Python.framework/Versions/3.11/lib/python3.11/site-packages (2.1.3)\n",
      "Requirement already satisfied: filelock in /Library/Frameworks/Python.framework/Versions/3.11/lib/python3.11/site-packages (from torch) (3.18.0)\n",
      "Requirement already satisfied: typing-extensions>=4.10.0 in /Users/fenilvadher/Library/Python/3.11/lib/python/site-packages (from torch) (4.13.1)\n",
      "Requirement already satisfied: networkx in /Library/Frameworks/Python.framework/Versions/3.11/lib/python3.11/site-packages (from torch) (3.4.2)\n",
      "Requirement already satisfied: jinja2 in /Library/Frameworks/Python.framework/Versions/3.11/lib/python3.11/site-packages (from torch) (3.1.6)\n",
      "Requirement already satisfied: fsspec in /Library/Frameworks/Python.framework/Versions/3.11/lib/python3.11/site-packages (from torch) (2025.3.2)\n",
      "Requirement already satisfied: sympy==1.13.1 in /Library/Frameworks/Python.framework/Versions/3.11/lib/python3.11/site-packages (from torch) (1.13.1)\n",
      "Requirement already satisfied: mpmath<1.4,>=1.1.0 in /Library/Frameworks/Python.framework/Versions/3.11/lib/python3.11/site-packages (from sympy==1.13.1->torch) (1.3.0)\n",
      "Requirement already satisfied: huggingface-hub<1.0,>=0.30.0 in /Library/Frameworks/Python.framework/Versions/3.11/lib/python3.11/site-packages (from transformers) (0.30.2)\n",
      "Requirement already satisfied: packaging>=20.0 in /Users/fenilvadher/Library/Python/3.11/lib/python/site-packages (from transformers) (24.2)\n",
      "Requirement already satisfied: pyyaml>=5.1 in /Library/Frameworks/Python.framework/Versions/3.11/lib/python3.11/site-packages (from transformers) (6.0.2)\n",
      "Requirement already satisfied: regex!=2019.12.17 in /Library/Frameworks/Python.framework/Versions/3.11/lib/python3.11/site-packages (from transformers) (2024.11.6)\n",
      "Requirement already satisfied: requests in /Library/Frameworks/Python.framework/Versions/3.11/lib/python3.11/site-packages (from transformers) (2.32.3)\n",
      "Requirement already satisfied: tokenizers<0.22,>=0.21 in /Library/Frameworks/Python.framework/Versions/3.11/lib/python3.11/site-packages (from transformers) (0.21.1)\n",
      "Requirement already satisfied: tqdm>=4.27 in /Library/Frameworks/Python.framework/Versions/3.11/lib/python3.11/site-packages (from transformers) (4.67.1)\n",
      "Requirement already satisfied: MarkupSafe>=2.0 in /Library/Frameworks/Python.framework/Versions/3.11/lib/python3.11/site-packages (from jinja2->torch) (3.0.2)\n",
      "Requirement already satisfied: charset-normalizer<4,>=2 in /Library/Frameworks/Python.framework/Versions/3.11/lib/python3.11/site-packages (from requests->transformers) (3.4.1)\n",
      "Requirement already satisfied: idna<4,>=2.5 in /Library/Frameworks/Python.framework/Versions/3.11/lib/python3.11/site-packages (from requests->transformers) (3.10)\n",
      "Requirement already satisfied: urllib3<3,>=1.21.1 in /Library/Frameworks/Python.framework/Versions/3.11/lib/python3.11/site-packages (from requests->transformers) (2.3.0)\n",
      "Requirement already satisfied: certifi>=2017.4.17 in /Library/Frameworks/Python.framework/Versions/3.11/lib/python3.11/site-packages (from requests->transformers) (2025.1.31)\n",
      "\n",
      "\u001b[1m[\u001b[0m\u001b[34;49mnotice\u001b[0m\u001b[1;39;49m]\u001b[0m\u001b[39;49m A new release of pip is available: \u001b[0m\u001b[31;49m24.0\u001b[0m\u001b[39;49m -> \u001b[0m\u001b[32;49m25.0.1\u001b[0m\n",
      "\u001b[1m[\u001b[0m\u001b[34;49mnotice\u001b[0m\u001b[1;39;49m]\u001b[0m\u001b[39;49m To update, run: \u001b[0m\u001b[32;49mpip3 install --upgrade pip\u001b[0m\n",
      "Note: you may need to restart the kernel to use updated packages.\n"
     ]
    }
   ],
   "source": [
    "%pip install torch transformers safetensors numpy"
   ]
  },
  {
   "cell_type": "code",
   "execution_count": 5,
   "id": "3b9bf87d",
   "metadata": {},
   "outputs": [],
   "source": [
    "import torch\n",
    "from transformers import BertTokenizer, BertForSequenceClassification\n",
    "import numpy as np\n",
    "from typing import Tuple\n",
    "import warnings"
   ]
  },
  {
   "cell_type": "code",
   "execution_count": 6,
   "id": "10681c1d",
   "metadata": {},
   "outputs": [],
   "source": [
    "class RealTimeTextDeepfakeDetector:\n",
    "    def __init__(self, model_path: str = \"model.safetensors\"):\n",
    "        \"\"\"\n",
    "        Initialize with safe model loading\n",
    "        \n",
    "        Args:\n",
    "            model_path: Path to .safetensors or .pt model file\n",
    "        \"\"\"\n",
    "        self.device = torch.device(\"cuda\" if torch.cuda.is_available() else \"cpu\")\n",
    "        self.tokenizer = BertTokenizer.from_pretrained('bert-base-uncased')\n",
    "        \n",
    "        # Load model architecture\n",
    "        self.model = BertForSequenceClassification.from_pretrained(\n",
    "            'bert-base-uncased',\n",
    "            num_labels=2\n",
    "        ).to(self.device)\n",
    "        \n",
    "        # Safe model loading\n",
    "        try:\n",
    "            if model_path.endswith('.safetensors'):\n",
    "                from safetensors.torch import load_file\n",
    "                state_dict = load_file(model_path, device=str(self.device))\n",
    "            else:\n",
    "                # For .pt files with safe loading\n",
    "                state_dict = torch.load(model_path, map_location=self.device, weights_only=True)\n",
    "            \n",
    "            self.model.load_state_dict(state_dict)\n",
    "        except Exception as e:\n",
    "            warnings.warn(f\"Safe loading failed, trying legacy load: {str(e)}\")\n",
    "            state_dict = torch.load(model_path, map_location=self.device, weights_only=False)\n",
    "            self.model.load_state_dict(state_dict)\n",
    "        \n",
    "        self.model.eval()\n",
    "        self.threshold = 0.85\n",
    "        self._warm_up()\n",
    "\n",
    "    def _warm_up(self):\n",
    "        \"\"\"Initialize model with dummy inference\"\"\"\n",
    "        self.predict(\"Model warmup\")\n",
    "\n",
    "    def predict(self, text: str) -> Tuple[str, float]:\n",
    "        \"\"\"\n",
    "        Make prediction on input text\n",
    "        \n",
    "        Args:\n",
    "            text: Input string to analyze\n",
    "            \n",
    "        Returns:\n",
    "            tuple: (prediction, confidence)\n",
    "        \"\"\"\n",
    "        inputs = self.tokenizer(\n",
    "            text,\n",
    "            truncation=True,\n",
    "            padding='max_length',\n",
    "            max_length=512,\n",
    "            return_tensors='pt'\n",
    "        ).to(self.device)\n",
    "        \n",
    "        with torch.no_grad():\n",
    "            outputs = self.model(**inputs)\n",
    "            probs = torch.softmax(outputs.logits, dim=1)[0].cpu().numpy()\n",
    "        \n",
    "        pred = np.argmax(probs)\n",
    "        confidence = float(np.max(probs))\n",
    "        \n",
    "        if pred == 1 and confidence >= self.threshold:\n",
    "            return \"Fake\", confidence\n",
    "        return \"Real\", 1 - confidence if pred == 1 else confidence\n"
   ]
  },
  {
   "cell_type": "code",
   "execution_count": 7,
   "id": "6182d4ae",
   "metadata": {},
   "outputs": [
    {
     "name": "stderr",
     "output_type": "stream",
     "text": [
      "Some weights of BertForSequenceClassification were not initialized from the model checkpoint at bert-base-uncased and are newly initialized: ['classifier.bias', 'classifier.weight']\n",
      "You should probably TRAIN this model on a down-stream task to be able to use it for predictions and inference.\n"
     ]
    },
    {
     "name": "stdout",
     "output_type": "stream",
     "text": [
      "Real-time Deepfake Detector (Type 'exit' to quit)\n",
      "Result: Fake (Confidence: 99.9%)\n",
      "Result: Fake (Confidence: 99.9%)\n",
      "Result: Real (Confidence: 100.0%)\n",
      "Result: Fake (Confidence: 98.9%)\n",
      "Result: Fake (Confidence: 98.8%)\n",
      "Result: Real (Confidence: 100.0%)\n",
      "Result: Fake (Confidence: 99.9%)\n",
      "Result: Fake (Confidence: 99.9%)\n"
     ]
    }
   ],
   "source": [
    "# Example Usage\n",
    "if __name__ == \"__main__\":\n",
    "    try:\n",
    "        detector = RealTimeTextDeepfakeDetector(\"/Users/fenilvadher/Documents/Collage Data/SEM - 6/AI/AI Project/bert_fake_news_model/model.safetensors\")\n",
    "        \n",
    "        print(\"Real-time Deepfake Detector (Type 'exit' to quit)\")\n",
    "        while True:\n",
    "            text = input(\"\\nEnter text: \")\n",
    "            if text.lower() in ('exit', 'quit'):\n",
    "                break\n",
    "                \n",
    "            pred, conf = detector.predict(text)\n",
    "            print(f\"Result: {pred} (Confidence: {conf:.1%})\")\n",
    "            \n",
    "    except Exception as e:\n",
    "        print(f\"Error: {str(e)}\")\n",
    "        print(\"Possible solutions:\")\n",
    "        print(\"1. Convert your model to .safetensors format\")\n",
    "        print(\"2. Use torch.save(model.state_dict()) for .pt files\")\n",
    "        print(\"3. Install safetensors: pip install safetensors\")"
   ]
  },
  {
   "cell_type": "code",
   "execution_count": null,
   "id": "921792a4",
   "metadata": {},
   "outputs": [],
   "source": []
  }
 ],
 "metadata": {
  "kernelspec": {
   "display_name": "Python 3",
   "language": "python",
   "name": "python3"
  },
  "language_info": {
   "codemirror_mode": {
    "name": "ipython",
    "version": 3
   },
   "file_extension": ".py",
   "mimetype": "text/x-python",
   "name": "python",
   "nbconvert_exporter": "python",
   "pygments_lexer": "ipython3",
   "version": "3.11.8"
  }
 },
 "nbformat": 4,
 "nbformat_minor": 5
}
